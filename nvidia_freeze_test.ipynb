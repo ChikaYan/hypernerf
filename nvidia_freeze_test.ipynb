{
 "cells": [
  {
   "cell_type": "code",
   "execution_count": 34,
   "id": "d19557ae",
   "metadata": {},
   "outputs": [],
   "source": [
    "import json\n",
    "import numpy as np\n",
    "import imageio\n",
    "import pdb\n",
    "from pathlib import Path\n",
    "import cv2\n",
    "from PIL import Image\n",
    "\n",
    "# @markdown The base directory for all captures. This can be anything if you're running this notebook on your own Jupyter runtime.\n",
    "save_dir = './data/'  \n",
    "capture_name = 'nvidia/Umbrella' \n",
    "# The root directory for this capture.\n",
    "root_dir = Path(save_dir, capture_name)\n",
    "# Where to save RGB images.\n",
    "# rgb_dir = root_dir / 'rgb'\n",
    "# rgb_raw_dir = root_dir / 'images'\n",
    "\n",
    "# make dirs for freeze test if available\n",
    "freeze_test_dir = root_dir / 'freeze_test'\n",
    "if freeze_test_dir.exists():\n",
    "    rgb_raw_freeze_test_dir = freeze_test_dir / 'rgb' / '1x'\n",
    "    rgb_freeze_test_dir = freeze_test_dir / 'rgb' / '1x'\n",
    "\n",
    "    rgb_freeze_test_dir.mkdir(exist_ok=True, parents=True)\n",
    "\n",
    "# tmp_rgb_raw_dir = rgb_raw_dir\n",
    "\n",
    "# rgb_list = list(sorted(rgb_raw_dir.glob( '*')))\n",
    "# image_size = imageio.imread(rgb_list[0]).shape[:2]\n",
    "# rgb_list[:3]\n"
   ]
  },
  {
   "cell_type": "markdown",
   "id": "a359a6a6",
   "metadata": {},
   "source": [
    "## Write dataset split"
   ]
  },
  {
   "cell_type": "code",
   "execution_count": 35,
   "id": "35dc0a68",
   "metadata": {},
   "outputs": [],
   "source": [
    "# @title Save dataset split to `dataset.json`.\n",
    "\n",
    "# write meta info for freeze test if exists\n",
    "if freeze_test_dir.exists():\n",
    "    all_ids_freeze_test = [img.stem for img in list(sorted(rgb_raw_freeze_test_dir.glob('*.png')))]\n",
    "    train_ids_freeze_test = []\n",
    "    val_ids_freeze_test = all_ids_freeze_test\n",
    "    dataset_json = {\n",
    "        'count': len(all_ids_freeze_test),\n",
    "        'num_exemplars': len(train_ids_freeze_test),\n",
    "        'ids': all_ids_freeze_test,\n",
    "        'train_ids': train_ids_freeze_test,\n",
    "        'val_ids': val_ids_freeze_test,\n",
    "    }\n",
    "\n",
    "    dataset_json_path = freeze_test_dir / 'dataset.json'\n",
    "    with dataset_json_path.open('w') as f:\n",
    "        json.dump(dataset_json, f, indent=2)"
   ]
  },
  {
   "cell_type": "markdown",
   "id": "f76bf73e",
   "metadata": {},
   "source": [
    "## Save metadata info"
   ]
  },
  {
   "cell_type": "code",
   "execution_count": 36,
   "id": "73a6bd23",
   "metadata": {},
   "outputs": [
    {
     "name": "stdout",
     "output_type": "stream",
     "text": [
      "Saved freeze metadata information to data/nvidia/Umbrella/freeze_test/metadata.json\n"
     ]
    }
   ],
   "source": [
    "# @title Save metadata information to `metadata.json`.\n",
    "import bisect\n",
    "\n",
    "\n",
    "\n",
    "# write meta info for freeze test if exists\n",
    "if freeze_test_dir.exists():\n",
    "  freeze_frame = {\n",
    "      'warp_id': 12,\n",
    "      'appearance_id': 12,\n",
    "      'camera_id': 0,\n",
    "  }\n",
    "  # freeze_frame = metadata_json[list(sorted(rgb_raw_freeze_test_dir.glob('*.png')))[k_freeze_meta['test_freeze_frame']].stem]\n",
    "\n",
    "  metadata_freeze_json = {}\n",
    "  for i, image_path in enumerate(list(sorted(rgb_raw_freeze_test_dir.glob('*.png')))):\n",
    "    image_id = image_path.stem\n",
    "    metadata_freeze_json[image_id] = freeze_frame\n",
    "\n",
    "  metadata_json_path = freeze_test_dir / 'metadata.json'\n",
    "  with metadata_json_path.open('w') as f:\n",
    "      json.dump(metadata_freeze_json, f, indent=2)\n",
    "\n",
    "  print(f'Saved freeze metadata information to {metadata_json_path}')\n"
   ]
  },
  {
   "cell_type": "markdown",
   "id": "b7f20559",
   "metadata": {},
   "source": [
    "## Write scene info"
   ]
  },
  {
   "cell_type": "code",
   "execution_count": 37,
   "id": "3d49b30b",
   "metadata": {},
   "outputs": [
    {
     "ename": "NameError",
     "evalue": "name 'k_meta' is not defined",
     "output_type": "error",
     "traceback": [
      "\u001b[0;31m---------------------------------------------------------------------------\u001b[0m",
      "\u001b[0;31mNameError\u001b[0m                                 Traceback (most recent call last)",
      "\u001b[0;32m/tmp/ipykernel_30535/52316897.py\u001b[0m in \u001b[0;36m<module>\u001b[0;34m\u001b[0m\n\u001b[1;32m      4\u001b[0m   \u001b[0;32mreturn\u001b[0m \u001b[0mnp\u001b[0m\u001b[0;34m.\u001b[0m\u001b[0mstack\u001b[0m\u001b[0;34m(\u001b[0m\u001b[0;34m[\u001b[0m\u001b[0mlower\u001b[0m\u001b[0;34m,\u001b[0m \u001b[0mupper\u001b[0m\u001b[0;34m]\u001b[0m\u001b[0;34m)\u001b[0m\u001b[0;34m\u001b[0m\u001b[0;34m\u001b[0m\u001b[0m\n\u001b[1;32m      5\u001b[0m \u001b[0;34m\u001b[0m\u001b[0m\n\u001b[0;32m----> 6\u001b[0;31m \u001b[0mbbox_corners\u001b[0m \u001b[0;34m=\u001b[0m \u001b[0mget_bbox_corners\u001b[0m\u001b[0;34m(\u001b[0m\u001b[0mnp\u001b[0m\u001b[0;34m.\u001b[0m\u001b[0marray\u001b[0m\u001b[0;34m(\u001b[0m\u001b[0mk_meta\u001b[0m\u001b[0;34m[\u001b[0m\u001b[0;34m'instances'\u001b[0m\u001b[0;34m]\u001b[0m\u001b[0;34m[\u001b[0m\u001b[0;36m0\u001b[0m\u001b[0;34m]\u001b[0m\u001b[0;34m[\u001b[0m\u001b[0;34m'bboxes_3d'\u001b[0m\u001b[0;34m]\u001b[0m\u001b[0;34m)\u001b[0m\u001b[0;34m[\u001b[0m\u001b[0;36m0\u001b[0m\u001b[0;34m]\u001b[0m\u001b[0;34m)\u001b[0m\u001b[0;34m\u001b[0m\u001b[0;34m\u001b[0m\u001b[0m\n\u001b[0m\u001b[1;32m      7\u001b[0m bbox_corners = np.array([[0,   0,  0],\n\u001b[1;32m      8\u001b[0m                          [50, 50, 10]])\n",
      "\u001b[0;31mNameError\u001b[0m: name 'k_meta' is not defined"
     ]
    }
   ],
   "source": [
    "def get_bbox_corners(points):\n",
    "  lower = points.min(axis=0)\n",
    "  upper = points.max(axis=0)\n",
    "  return np.stack([lower, upper])\n",
    "\n",
    "bbox_corners = get_bbox_corners(np.array(k_meta['instances'][0]['bboxes_3d'])[0])\n",
    "bbox_corners = np.array([[0,   0,  0],\n",
    "                         [50, 50, 10]])\n",
    "\n",
    "# scene_center = np.mean(bbox_corners, axis=0)\n",
    "scene_scale = 1.0 / np.sqrt(np.sum((bbox_corners[1] - bbox_corners[0]) ** 2))\n",
    "scene_center = np.array([0., 0., 0.])\n",
    "# scene_scale = 0.01\n",
    "\n",
    "print(f'Scene Center: {scene_center}')\n",
    "print(f'Scene Scale: {scene_scale}')\n",
    "\n",
    "# @title Save scene information to `scene.json`.\n",
    "\n",
    "scene_json_path = root_dir /  'scene_gt.json'\n",
    "with scene_json_path.open('w') as f:\n",
    "  json.dump({\n",
    "      'scale': scene_scale,\n",
    "      'center': scene_center.tolist(),\n",
    "      'bbox': bbox_corners.tolist(),\n",
    "      'near': 0.1,\n",
    "      'far': 1. # bbox_corners[1].max() * scene_scale,\n",
    "  }, f, indent=2)\n",
    "\n",
    "print(f'Saved scene information to {scene_json_path}')"
   ]
  }
 ],
 "metadata": {
  "kernelspec": {
   "display_name": "Python 3 (ipykernel)",
   "language": "python",
   "name": "python3"
  },
  "language_info": {
   "codemirror_mode": {
    "name": "ipython",
    "version": 3
   },
   "file_extension": ".py",
   "mimetype": "text/x-python",
   "name": "python",
   "nbconvert_exporter": "python",
   "pygments_lexer": "ipython3",
   "version": "3.8.12"
  }
 },
 "nbformat": 4,
 "nbformat_minor": 5
}
