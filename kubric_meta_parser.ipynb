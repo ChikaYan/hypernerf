{
 "cells": [
  {
   "cell_type": "code",
   "execution_count": 28,
   "id": "d19557ae",
   "metadata": {},
   "outputs": [
    {
     "data": {
      "text/plain": [
       "[PosixPath('data/kubric_cone_v2/rgb-raw/rgba_00000.png'),\n",
       " PosixPath('data/kubric_cone_v2/rgb-raw/rgba_00001.png'),\n",
       " PosixPath('data/kubric_cone_v2/rgb-raw/rgba_00002.png')]"
      ]
     },
     "execution_count": 28,
     "metadata": {},
     "output_type": "execute_result"
    }
   ],
   "source": [
    "import json\n",
    "import numpy as np\n",
    "import imageio\n",
    "import pdb\n",
    "from pathlib import Path\n",
    "import glob\n",
    "\n",
    "# @markdown The base directory for all captures. This can be anything if you're running this notebook on your own Jupyter runtime.\n",
    "save_dir = './data/'  \n",
    "capture_name = 'kubric_cone_v2' \n",
    "# The root directory for this capture.\n",
    "root_dir = Path(save_dir, capture_name)\n",
    "# Where to save RGB images.\n",
    "rgb_dir = root_dir / 'rgb'\n",
    "rgb_raw_dir = root_dir / 'rgb-raw'\n",
    "camera_gt_dir = root_dir / 'camera-gt'\n",
    "\n",
    "camera_gt_dir.mkdir(exist_ok=True, parents=True)\n",
    "\n",
    "with open(root_dir / 'metadata_kubric.json','r') as f:\n",
    "    k_meta = json.load(f)\n",
    "\n",
    "rgb_list = list(sorted(rgb_raw_dir.glob( '*.png')))\n",
    "image_size = imageio.imread(rgb_list[0]).shape[:2]\n",
    "rgb_list[:3]\n"
   ]
  },
  {
   "cell_type": "code",
   "execution_count": 47,
   "id": "5fd96d5a",
   "metadata": {},
   "outputs": [
    {
     "data": {
      "text/plain": [
       "'rgba_00000'"
      ]
     },
     "execution_count": 47,
     "metadata": {},
     "output_type": "execute_result"
    }
   ],
   "source": [
    "rgb_list[0].stem"
   ]
  },
  {
   "cell_type": "code",
   "execution_count": 63,
   "id": "a09555f0",
   "metadata": {},
   "outputs": [],
   "source": [
    "\n",
    "for i, rgb in enumerate(rgb_list):\n",
    "    meta = {}\n",
    "    c2w = np.array(k_meta['camera']['Rs'][i])\n",
    "    meta['orientation'] = c2w[:3,:3].tolist()\n",
    "    meta['position'] = c2w[:3,3].tolist()\n",
    "    meta['focal_length'] = k_meta['camera']['focal_length'] \n",
    "    meta['principal_point'] = [image_size[0]/2, image_size[1]/2] # check\n",
    "    meta['skew'] = 0.\n",
    "    meta['pixel_aspect_ratio'] = 1. # check\n",
    "    meta['radial_distortion'] = [0., 0.] # check\n",
    "    meta['tangential_distortion'] = [0., 0.] # check\n",
    "    meta['image_size'] = image_size\n",
    "\n",
    "    with open(str(camera_gt_dir / rgb.stem) + '.json', 'w') as f:\n",
    "        json.dump(meta, f, indent=2)"
   ]
  },
  {
   "cell_type": "code",
   "execution_count": 59,
   "id": "1587b28f",
   "metadata": {},
   "outputs": [
    {
     "data": {
      "text/plain": [
       "[[0.2609749436378479,\n",
       "  0.4105788767337799,\n",
       "  -0.8736801743507385,\n",
       "  -8.736802101135254],\n",
       " [-0.965345561504364,\n",
       "  0.11099735647439957,\n",
       "  -0.23619379103183746,\n",
       "  -2.361938238143921],\n",
       " [9.03056474044206e-09,\n",
       "  0.9050439596176147,\n",
       "  0.42531803250312805,\n",
       "  4.253180503845215],\n",
       " [0.0, 0.0, 0.0, 1.0]]"
      ]
     },
     "execution_count": 59,
     "metadata": {},
     "output_type": "execute_result"
    }
   ],
   "source": [
    "c2w = np.array(k_meta['camera']['Rs'][0])\n",
    "rot = c2w[:3,:3]\n",
    "trans = c2w[:3,3]\n",
    "c2w.tolist()"
   ]
  },
  {
   "cell_type": "code",
   "execution_count": 52,
   "id": "02be9bff",
   "metadata": {},
   "outputs": [
    {
     "ename": "IndexError",
     "evalue": "list index out of range",
     "output_type": "error",
     "traceback": [
      "\u001b[0;31m---------------------------------------------------------------------------\u001b[0m",
      "\u001b[0;31mIndexError\u001b[0m                                Traceback (most recent call last)",
      "\u001b[0;32m/tmp/ipykernel_614078/72139607.py\u001b[0m in \u001b[0;36m<module>\u001b[0;34m\u001b[0m\n\u001b[1;32m      1\u001b[0m \u001b[0mc2w\u001b[0m \u001b[0;34m=\u001b[0m\u001b[0mk_meta\u001b[0m\u001b[0;34m[\u001b[0m\u001b[0;34m'camera'\u001b[0m\u001b[0;34m]\u001b[0m\u001b[0;34m[\u001b[0m\u001b[0;34m'Rs'\u001b[0m\u001b[0;34m]\u001b[0m\u001b[0;34m[\u001b[0m\u001b[0mi\u001b[0m\u001b[0;34m]\u001b[0m\u001b[0;34m\u001b[0m\u001b[0;34m\u001b[0m\u001b[0m\n\u001b[1;32m      2\u001b[0m \u001b[0mmeta\u001b[0m\u001b[0;34m[\u001b[0m\u001b[0;34m'orientation'\u001b[0m\u001b[0;34m]\u001b[0m \u001b[0;34m=\u001b[0m \u001b[0mc2w\u001b[0m\u001b[0;34m[\u001b[0m\u001b[0;34m:\u001b[0m\u001b[0;36m3\u001b[0m\u001b[0;34m]\u001b[0m\u001b[0;34m[\u001b[0m\u001b[0;34m:\u001b[0m\u001b[0;36m3\u001b[0m\u001b[0;34m]\u001b[0m\u001b[0;34m\u001b[0m\u001b[0;34m\u001b[0m\u001b[0m\n\u001b[0;32m----> 3\u001b[0;31m \u001b[0mmeta\u001b[0m\u001b[0;34m[\u001b[0m\u001b[0;34m'position'\u001b[0m\u001b[0;34m]\u001b[0m \u001b[0;34m=\u001b[0m \u001b[0mc2w\u001b[0m\u001b[0;34m[\u001b[0m\u001b[0;34m:\u001b[0m\u001b[0;36m3\u001b[0m\u001b[0;34m]\u001b[0m\u001b[0;34m[\u001b[0m\u001b[0;36m3\u001b[0m\u001b[0;34m]\u001b[0m\u001b[0;34m\u001b[0m\u001b[0;34m\u001b[0m\u001b[0m\n\u001b[0m",
      "\u001b[0;31mIndexError\u001b[0m: list index out of range"
     ]
    }
   ],
   "source": [
    "c2w =k_meta['camera']['Rs'][i]\n",
    "meta['orientation'] = c2w[:3][:3]\n",
    "meta['position'] = c2w[:3][3]"
   ]
  },
  {
   "cell_type": "code",
   "execution_count": 55,
   "id": "5ac54484",
   "metadata": {},
   "outputs": [
    {
     "data": {
      "text/plain": [
       "[[0.2609749436378479,\n",
       "  0.4105788767337799,\n",
       "  -0.8736801743507385,\n",
       "  -8.736802101135254],\n",
       " [-0.965345561504364,\n",
       "  0.11099735647439957,\n",
       "  -0.23619379103183746,\n",
       "  -2.361938238143921],\n",
       " [9.03056474044206e-09,\n",
       "  0.9050439596176147,\n",
       "  0.42531803250312805,\n",
       "  4.253180503845215]]"
      ]
     },
     "execution_count": 55,
     "metadata": {},
     "output_type": "execute_result"
    }
   ],
   "source": [
    "c2w[:3]"
   ]
  }
 ],
 "metadata": {
  "kernelspec": {
   "display_name": "Python 3 (ipykernel)",
   "language": "python",
   "name": "python3"
  },
  "language_info": {
   "codemirror_mode": {
    "name": "ipython",
    "version": 3
   },
   "file_extension": ".py",
   "mimetype": "text/x-python",
   "name": "python",
   "nbconvert_exporter": "python",
   "pygments_lexer": "ipython3",
   "version": "3.7.11"
  }
 },
 "nbformat": 4,
 "nbformat_minor": 5
}
