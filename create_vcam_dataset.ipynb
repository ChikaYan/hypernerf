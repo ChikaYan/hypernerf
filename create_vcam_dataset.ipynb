{
 "cells": [
  {
   "cell_type": "markdown",
   "metadata": {
    "id": "7Z-ASlgBUPXJ"
   },
   "source": [
    "## Configuration.\n",
    "\n",
    "Mount Google Drive onto `/content/gdrive`. You can skip this if you want to run this locally."
   ]
  },
  {
   "cell_type": "code",
   "execution_count": 3,
   "metadata": {
    "id": "5NR5OGyeUOKU"
   },
   "outputs": [
    {
     "name": "stdout",
     "output_type": "stream",
     "text": [
      "Num of train: 207\n",
      "Num of val: 207\n",
      "Saved dataset information to data/hypernerf/vrig-3dprinter-vcam/dataset.json\n"
     ]
    }
   ],
   "source": [
    "from pathlib import Path\n",
    "import concurrent.futures\n",
    "import numpy as np\n",
    "import cv2\n",
    "import imageio\n",
    "from PIL import Image\n",
    "import pdb\n",
    "import json\n",
    "\n",
    "# @markdown The base directory for all captures. This can be anything if you're running this notebook on your own Jupyter runtime.\n",
    "save_dir = './data/hypernerf'  # @param {type: 'string'}\n",
    "# @markdown The name of this capture. The working directory will be `$save_dir/$capture_name`. **Make sure you change this** when processing a new video.\n",
    "capture_name = 'vrig-3dprinter-vcam'  # @param {type: 'string'}\n",
    "# The root directory for this capture.\n",
    "root_dir = Path(save_dir, capture_name)\n",
    "# Where to save RGB images.\n",
    "rgb_dir = root_dir / 'rgb' / '4x'\n",
    "\n",
    "\n",
    "all_ids = [img_path.stem for img_path in sorted(list(rgb_dir.glob('*')))]\n",
    "val_ids = [idx for idx in all_ids if idx.startswith('left')]\n",
    "train_ids = sorted(set(all_ids) - set(val_ids))\n",
    "\n",
    "print(f'Num of train: {len(train_ids)}')\n",
    "print(f'Num of val: {len(val_ids)}')\n",
    "\n",
    "dataset_json = {\n",
    "    'count': len(all_ids),\n",
    "    'num_exemplars': len(train_ids),\n",
    "    'ids': all_ids,\n",
    "    'train_ids': train_ids,\n",
    "    'val_ids': val_ids,\n",
    "}\n",
    "\n",
    "dataset_json_path = root_dir / 'dataset.json'\n",
    "with dataset_json_path.open('w') as f:\n",
    "    json.dump(dataset_json, f, indent=2)\n",
    "\n",
    "print(f'Saved dataset information to {dataset_json_path}')\n",
    "\n",
    "\n"
   ]
  }
 ],
 "metadata": {
  "colab": {
   "collapsed_sections": [],
   "name": "Nerfies Capture Processing v2.ipynb",
   "private_outputs": true,
   "provenance": []
  },
  "kernelspec": {
   "display_name": "Python 3 (ipykernel)",
   "language": "python",
   "name": "python3"
  },
  "language_info": {
   "codemirror_mode": {
    "name": "ipython",
    "version": 3
   },
   "file_extension": ".py",
   "mimetype": "text/x-python",
   "name": "python",
   "nbconvert_exporter": "python",
   "pygments_lexer": "ipython3",
   "version": "3.8.12"
  }
 },
 "nbformat": 4,
 "nbformat_minor": 1
}
